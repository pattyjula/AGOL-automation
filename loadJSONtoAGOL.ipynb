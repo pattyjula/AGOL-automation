{
 "cells": [
  {
   "cell_type": "code",
   "execution_count": 15,
   "id": "69027b6f",
   "metadata": {},
   "outputs": [
    {
     "data": {
      "text/plain": [
       "'\\n        @Author: Patty Jula\\n        @Date created: 3/2022\\n        @Date updated: 6/21/2023\\n        @Description: This script takes a data wrangled shapefile, converts to\\n        a json and overwrites an existing feature layer on ArcGIS Online. It\\n        is useful for content that needs regular updates\\n'"
      ]
     },
     "execution_count": 15,
     "metadata": {},
     "output_type": "execute_result"
    }
   ],
   "source": [
    "# -*- coding: utf-8 -*-\n",
    "\"\"\"\n",
    "        @Author: Patty Jula\n",
    "        @Date created: 3/2022\n",
    "        @Date updated: 6/21/2023\n",
    "        @Description: This script takes a data wrangled shapefile, converts to\n",
    "        a json and overwrites an existing feature layer on ArcGIS Online. It\n",
    "        is useful for content that needs regular updates\n",
    "\"\"\""
   ]
  },
  {
   "cell_type": "code",
   "execution_count": 16,
   "id": "6d7a693e",
   "metadata": {},
   "outputs": [
    {
     "name": "stderr",
     "output_type": "stream",
     "text": [
      "2023-06-23 11:20:22,460  z_arl_data_v4   INFO  Preparing JSON for AGOL\n",
      "2023-06-23 11:20:22,460  z_arl_data_v4   INFO  Preparing JSON for AGOL\n",
      "2023-06-23 11:20:22,460  z_arl_data_v4   INFO  Preparing JSON for AGOL\n",
      "2023-06-23 11:20:22,460  z_arl_data_v4   INFO  Preparing JSON for AGOL\n"
     ]
    }
   ],
   "source": [
    "# import libraries\n",
    "import os\n",
    "import sys\n",
    "\n",
    "import arcgis\n",
    "import arcpy\n",
    "from arcgis.gis import GIS\n",
    "\n",
    "from base import get_logger\n",
    "\n",
    "arcpy.env.overwriteOutput = True\n",
    "\n",
    "# Set up logger file\n",
    "logger = get_logger(\"z_arl_data_v4\", \"a\")\n",
    "logger.info(\"Preparing JSON for AGOL\")\n",
    "\n",
    "# Set variables\n",
    "ws = \"E:/batch/arl/content/\"\n",
    "loc = ws\n",
    "pth = os.chdir(loc)\n",
    "output_feature_class = \"ARL_data.shp\"\n",
    "localJSON = ws + \"./arl_content.json\"\n"
   ]
  },
  {
   "cell_type": "code",
   "execution_count": 17,
   "id": "cc92ce9c",
   "metadata": {},
   "outputs": [],
   "source": [
    "try:\n",
    "    if os.path.isfile(localJSON):\n",
    "        os.remove(localJSON)\n",
    "\n",
    "except FileNotFoundError:\n",
    "    print(\"Wrong file or file path\")\n",
    "\n",
    "# Truncate the existing feature layer\n",
    "\n",
    "def TruncateWebLayer(gis, target):\n",
    "\n",
    "    try:\n",
    "        lyr = arcgis.features.FeatureLayer(target, gis)\n",
    "        lyr.manager.truncate()\n",
    "        print(\"Successfully truncated layer: \" + str(target))\n",
    "    except Exception:\n",
    "        e = sys.exc_info()[1]\n",
    "        print(e.args[0])"
   ]
  },
  {
   "cell_type": "code",
   "execution_count": 19,
   "id": "a6180600",
   "metadata": {},
   "outputs": [
    {
     "name": "stderr",
     "output_type": "stream",
     "text": [
      "2023-06-23 11:21:02,177  z_arl_data_v4   INFO  Deleting existing features from AGOL\n",
      "2023-06-23 11:21:02,177  z_arl_data_v4   INFO  Deleting existing features from AGOL\n",
      "2023-06-23 11:21:02,177  z_arl_data_v4   INFO  Deleting existing features from AGOL\n",
      "2023-06-23 11:21:02,177  z_arl_data_v4   INFO  Deleting existing features from AGOL\n"
     ]
    }
   ],
   "source": [
    "# LAPD log in, create a profile so you don't need to show un/pw\n",
    "mygis = GIS(\"https://site.maps.arcgis.com/\", profile=\"python_playground_prof\")\n",
    "\n",
    "# publishedWebLayer is the URL of a single feature layer within a collection in\n",
    "# an AGOL portal\n",
    "publishedWebLayer = \"https://services6.arcgis.com/Q18o8KwHjFGbEc4j/arcgis/rest/services/ARL_data/FeatureServer/0\"\n",
    "\n",
    "# a feature class on the local system with the same schema as the\n",
    "# portal layer\n",
    "updateFeatures = os.path.join(\"E:/batch/arl/content/\" + output_feature_class)\n",
    "\n",
    "# remove all features from the already published feature layer\n",
    "feature_layer_item = mygis.content.search(\"arl whole file\")[0]\n",
    "flayers = feature_layer_item.layers\n",
    "\n",
    "flayer = flayers[0]\n",
    "\n",
    "flayer.delete_features(where=\"area > 0 OR area =0\")\n",
    "logger.info(\"Deleting existing features from AGOL\")\n"
   ]
  },
  {
   "cell_type": "code",
   "execution_count": 20,
   "id": "cdc8ca3b",
   "metadata": {},
   "outputs": [
    {
     "name": "stderr",
     "output_type": "stream",
     "text": [
      "2023-06-23 11:21:03,858  z_arl_data_v4   INFO  \n",
      "2023-06-23 11:21:03,858  z_arl_data_v4   INFO  \n",
      "2023-06-23 11:21:03,858  z_arl_data_v4   INFO  \n",
      "2023-06-23 11:21:03,858  z_arl_data_v4   INFO  \n",
      "2023-06-23 11:21:03,861  z_arl_data_v4   INFO  Finishing steps for load to AGOL\n",
      "2023-06-23 11:21:03,861  z_arl_data_v4   INFO  Finishing steps for load to AGOL\n",
      "2023-06-23 11:21:03,861  z_arl_data_v4   INFO  Finishing steps for load to AGOL\n",
      "2023-06-23 11:21:03,861  z_arl_data_v4   INFO  Finishing steps for load to AGOL\n"
     ]
    }
   ],
   "source": [
    "# reference the empty layer as FeatureLayer object from the ArcGIS Python API\n",
    "fl = arcgis.features.FeatureLayer(publishedWebLayer, mygis)\n",
    "\n",
    "# create a JSON object from the local features\n",
    "jSON = arcpy.FeaturesToJSON_conversion(updateFeatures, localJSON)\n",
    "\n",
    "# create a FeatureSet object from the JSON\n",
    "\n",
    "fs = arcgis.features.FeatureSet.from_json(open(localJSON).read())\n",
    "# logstuff(\"Creating a featureset from the JSON\")\n",
    "\n",
    "# add/append the local features to the hosted feature layer\n",
    "\n",
    "fl.edit_features(adds=fs)\n",
    "# logstuff(\"Appending latest data to the hosted feature layer\")\n",
    "logger.info(arcpy.GetMessages(1))\n",
    "\n",
    "logger.info(\"Finishing steps for load to AGOL\")\n"
   ]
  },
  {
   "cell_type": "code",
   "execution_count": null,
   "id": "65191ced",
   "metadata": {},
   "outputs": [],
   "source": []
  }
 ],
 "metadata": {
  "kernelspec": {
   "display_name": "Python 3 (ipykernel)",
   "language": "python",
   "name": "python3"
  },
  "language_info": {
   "codemirror_mode": {
    "name": "ipython",
    "version": 3
   },
   "file_extension": ".py",
   "mimetype": "text/x-python",
   "name": "python",
   "nbconvert_exporter": "python",
   "pygments_lexer": "ipython3",
   "version": "3.9.16"
  }
 },
 "nbformat": 4,
 "nbformat_minor": 5
}
